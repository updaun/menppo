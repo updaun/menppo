{
 "cells": [
  {
   "cell_type": "code",
   "execution_count": null,
   "source": [
    "import h5py\r\n",
    "import zipfile\r\n",
    "import imageio\r\n",
    "import os"
   ],
   "outputs": [],
   "metadata": {}
  },
  {
   "cell_type": "code",
   "execution_count": null,
   "source": [
    "# location of the HDF5 package, yours may be under /gan/ not /myo_gan/\r\n",
    "hdf5_file = '../menppo/dataset/emotion_dataset.h5py'\r\n",
    "\r\n",
    "# how many of the 202,599 images to extract and package into HDF5\r\n",
    "total_images = 28702\r\n",
    "images_num = [3994,435,4096,7214,4964,4829,3170]\r\n",
    "images_class = ['angry','disgusted','fearful','happy','neutral','sad','surprised']\r\n",
    "\r\n",
    "\r\n",
    "with h5py.File(hdf5_file, 'w') as hf:\r\n",
    "    for idx,name in enumerate(images_class):\r\n",
    "        with zipfile.ZipFile('zip_dataset/' + name + '.zip', 'r') as zf:\r\n",
    "            count = 0\r\n",
    "\r\n",
    "            for i in zf.namelist():\r\n",
    "                if (i[-4:] == '.png'):\r\n",
    "                    # extract image\r\n",
    "                    ofile = zf.extract(i)\r\n",
    "                    img = imageio.imread(ofile)\r\n",
    "                    os.remove(ofile)\r\n",
    "\r\n",
    "                    # add image data to HDF5 file with new name\r\n",
    "                    hf.create_dataset(images_class[idx]+\"/\"+str(count)+'.jpg', data=img, compression=\"gzip\", compression_opts=9)\r\n",
    "\r\n",
    "                    count = count + 1\r\n",
    "                    if (count%1000 == 0):\r\n",
    "                        print(\"images done .. \", count)\r\n",
    "                        pass\r\n",
    "        \r\n",
    "                    # stop when total_images reached\r\n",
    "                    if (count == images_num[idx]):\r\n",
    "                        break"
   ],
   "outputs": [],
   "metadata": {}
  },
  {
   "cell_type": "code",
   "execution_count": null,
   "source": [
    "# # open HDF5 file and list any groups\r\n",
    "\r\n",
    "with h5py.File('emotion_dataset/emotion_dataset.h5py', 'r') as file_object:\r\n",
    "  \r\n",
    "  for group in file_object:\r\n",
    "    print(group)\r\n",
    "    pass"
   ],
   "outputs": [],
   "metadata": {}
  }
 ],
 "metadata": {
  "orig_nbformat": 4,
  "language_info": {
   "name": "python"
  }
 },
 "nbformat": 4,
 "nbformat_minor": 2
}